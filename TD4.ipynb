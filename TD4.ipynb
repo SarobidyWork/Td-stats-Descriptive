{
 "cells": [
  {
   "cell_type": "markdown",
   "metadata": {},
   "source": [
    "# TD 4 | Étude des vibrations des aubes d'un rouet de compresseur d'un turbofan\n",
    "\n",
    "---\n",
    "\n",
    "Objectifs du TD :\n",
    "\n",
    "* pratiquer sur un use case concret d'analyse statistique de données de production aéronautiques\n",
    "* PCA\n",
    "* tests statistiques et coefficients de corrélation\n",
    "\n",
    "---"
   ]
  },
  {
   "cell_type": "markdown",
   "metadata": {},
   "source": [
    "## Présentation du problème"
   ]
  },
  {
   "cell_type": "markdown",
   "metadata": {},
   "source": [
    "On considère le **rouet de compresseur** de la **turbine à gaz d'un turbopropulseur** d'hélicoptère. Celui-ci est constitué de 13 **aubes**.\n",
    "\n",
    "<img src=\"rc/turbo-helico.png\" />\n",
    "\n",
    "<img src=\"rc/compresseur.png\" /> <img src=\"rc/compresseur-2.png\" />\n",
    "\n",
    "En production, après la fabrication et montage de la pièce, on mesure les vibrations des aubes grâce à une technique appelée **tip-timing**. Cette technique consiste à mesurer la position d'une aube en rotation par rapport à sa position au repos. En effet, les vibrations dues à la rotation entraînent un **décalage de la position des aubes** (voir schéma ci-dessous). \n",
    "\n",
    "<img src=\"rc/tiptiming.png\"/>\n",
    "\n",
    "La mesure de ce déplacement maximal à un régime (vitesse de rotation) donné permet de déduire le niveau vibratoire de chacune des aubes. Voici les résultats obtenus pour chacune des 13 aubes :\n",
    "\n",
    "<img src=\"rc/vibrations.png\" />"
   ]
  },
  {
   "cell_type": "markdown",
   "metadata": {},
   "source": [
    "<div style=\"color: #bb1111; font-size: 16px; background-color: #ffeeee; padding: 20px; border-radius: 15px\">\n",
    "    <p><b>Problème :</b> on observe un niveau de vibrations anormal pour l'aube numérotée 11 dans le tableau ci-dessus (déplacement maximal de 0.99 mm). Cependant, il est impossible d'identifier de manière certaine cette aube, car l'aube n°1 n'est pas identifiée : il peut y avoir un décalage circulaire des mesures. On sait seulement qu'une aube vibre davantage que les autres. Comment peut-on identifier cette aube afin de la remplacer ?</p>\n",
    "</div>"
   ]
  },
  {
   "cell_type": "markdown",
   "metadata": {},
   "source": [
    "## Présentation des données"
   ]
  },
  {
   "cell_type": "markdown",
   "metadata": {},
   "source": [
    "<div style=\"color: #1111bb; font-size: 16px; background-color: #eeeeff; padding: 20px; border-radius: 15px\">\n",
    "    <p>On dispose de données de production sur les aubes de ce compresseur !</p>\n",
    "</div>"
   ]
  },
  {
   "cell_type": "markdown",
   "metadata": {},
   "source": [
    "Durant la production, de nombreuses caractéristiques géométriques de chaque aube sont mesurées. Ces données géométriques sont les suivantes :\n",
    "\n",
    "* 17 variables géométriques concernant la forme (bord d'attaque BA, bord de fuite BF, etc.) de l'aube\n",
    "* 94 variables d'épaisseurs mesurées à différents points de l'aube\n",
    "\n",
    "soit un total de 111 variables mesurées par aube. Ces données se trouvent dans le fichier `Rouet_geometries.csv` (voir figures ci-dessous).\n",
    "\n",
    "<img src=\"rc/geometries.png\" />\n",
    "<img src=\"rc/epaisseurs.png\" />"
   ]
  },
  {
   "cell_type": "markdown",
   "metadata": {},
   "source": [
    "Enfin, les données de vibrations issues du tip-timing se trouvent dans le fichier `Rouet_vibrations.csv`.\n",
    "\n",
    "<img src=\"rc/vibrations.png\" />"
   ]
  },
  {
   "cell_type": "markdown",
   "metadata": {},
   "source": [
    "<div style=\"color: #1111bb; font-size: 16px; background-color: #eeeeff; padding: 20px; border-radius: 15px\">\n",
    "    <p><b>Attention :</b> Les numérotations des aubes dans les données géométriques et les résultats du tip-timing ne sont pas les mêmes (permutation circulaire) !</p>\n",
    "</div>"
   ]
  },
  {
   "cell_type": "markdown",
   "metadata": {},
   "source": [
    "## 1. Chargement et préparation des données\n",
    "\n",
    "### 1.1 Lecture des données\n",
    "\n",
    "Charger les deux jeux de données, géométries (`./data/Rouet_geometries.csv`) et vibrations (`./data/Rouet_vibrations.csv`), dans des DataFrames pandas. Il sera nécessaire de prêter attention au format des fichier (header, séparateur de colonnes, typage des colonnes, etc.).\n",
    "\n",
    "**Indice** : l'encodage des fichier CSV n'est pas UTF-8, il faudra donc préciser l'option `encoding='latin'` à la fonction `pandas.read_csv`."
   ]
  },
  {
   "cell_type": "code",
   "execution_count": 1,
   "metadata": {},
   "outputs": [],
   "source": [
    "import pandas as pd\n",
    "import numpy as np\n",
    "import math"
   ]
  },
  {
   "cell_type": "code",
   "execution_count": 2,
   "metadata": {},
   "outputs": [],
   "source": [
    "import os\n",
    "os.chdir('C:\\\\Users\\\\srand\\\\MACS3\\\\MACS3-Statistiques-Descriptives-TDs')"
   ]
  },
  {
   "cell_type": "code",
   "execution_count": 3,
   "metadata": {},
   "outputs": [
    {
     "data": {
      "text/html": [
       "<div>\n",
       "<style scoped>\n",
       "    .dataframe tbody tr th:only-of-type {\n",
       "        vertical-align: middle;\n",
       "    }\n",
       "\n",
       "    .dataframe tbody tr th {\n",
       "        vertical-align: top;\n",
       "    }\n",
       "\n",
       "    .dataframe thead th {\n",
       "        text-align: right;\n",
       "    }\n",
       "</style>\n",
       "<table border=\"1\" class=\"dataframe\">\n",
       "  <thead>\n",
       "    <tr style=\"text-align: right;\">\n",
       "      <th></th>\n",
       "      <th>BA in</th>\n",
       "      <th>MI in</th>\n",
       "      <th>BF intra</th>\n",
       "      <th>BA ex</th>\n",
       "      <th>MI Ex</th>\n",
       "      <th>BF ex</th>\n",
       "      <th>BA in.1</th>\n",
       "      <th>MI in.1</th>\n",
       "      <th>BF intra.1</th>\n",
       "      <th>BA ex.1</th>\n",
       "      <th>...</th>\n",
       "      <th>85</th>\n",
       "      <th>86</th>\n",
       "      <th>87</th>\n",
       "      <th>88</th>\n",
       "      <th>89</th>\n",
       "      <th>90</th>\n",
       "      <th>91</th>\n",
       "      <th>92</th>\n",
       "      <th>93</th>\n",
       "      <th>94</th>\n",
       "    </tr>\n",
       "    <tr>\n",
       "      <th>N° Pale</th>\n",
       "      <th></th>\n",
       "      <th></th>\n",
       "      <th></th>\n",
       "      <th></th>\n",
       "      <th></th>\n",
       "      <th></th>\n",
       "      <th></th>\n",
       "      <th></th>\n",
       "      <th></th>\n",
       "      <th></th>\n",
       "      <th></th>\n",
       "      <th></th>\n",
       "      <th></th>\n",
       "      <th></th>\n",
       "      <th></th>\n",
       "      <th></th>\n",
       "      <th></th>\n",
       "      <th></th>\n",
       "      <th></th>\n",
       "      <th></th>\n",
       "      <th></th>\n",
       "    </tr>\n",
       "  </thead>\n",
       "  <tbody>\n",
       "    <tr>\n",
       "      <th>1</th>\n",
       "      <td>0.077</td>\n",
       "      <td>0.064</td>\n",
       "      <td>0.047</td>\n",
       "      <td>0.054</td>\n",
       "      <td>0.035</td>\n",
       "      <td>0.053</td>\n",
       "      <td>4.43</td>\n",
       "      <td>2.03</td>\n",
       "      <td>1.95</td>\n",
       "      <td>4.60</td>\n",
       "      <td>...</td>\n",
       "      <td>121</td>\n",
       "      <td>151</td>\n",
       "      <td>140</td>\n",
       "      <td>143</td>\n",
       "      <td>161</td>\n",
       "      <td>168</td>\n",
       "      <td>180</td>\n",
       "      <td>175</td>\n",
       "      <td>182</td>\n",
       "      <td>194</td>\n",
       "    </tr>\n",
       "    <tr>\n",
       "      <th>2</th>\n",
       "      <td>0.068</td>\n",
       "      <td>0.073</td>\n",
       "      <td>0.059</td>\n",
       "      <td>0.056</td>\n",
       "      <td>0.039</td>\n",
       "      <td>0.053</td>\n",
       "      <td>4.44</td>\n",
       "      <td>2.02</td>\n",
       "      <td>1.95</td>\n",
       "      <td>4.59</td>\n",
       "      <td>...</td>\n",
       "      <td>129</td>\n",
       "      <td>155</td>\n",
       "      <td>149</td>\n",
       "      <td>148</td>\n",
       "      <td>172</td>\n",
       "      <td>176</td>\n",
       "      <td>187</td>\n",
       "      <td>185</td>\n",
       "      <td>190</td>\n",
       "      <td>197</td>\n",
       "    </tr>\n",
       "    <tr>\n",
       "      <th>3</th>\n",
       "      <td>0.074</td>\n",
       "      <td>0.072</td>\n",
       "      <td>0.055</td>\n",
       "      <td>0.059</td>\n",
       "      <td>0.038</td>\n",
       "      <td>0.047</td>\n",
       "      <td>4.44</td>\n",
       "      <td>2.03</td>\n",
       "      <td>1.95</td>\n",
       "      <td>4.59</td>\n",
       "      <td>...</td>\n",
       "      <td>129</td>\n",
       "      <td>154</td>\n",
       "      <td>146</td>\n",
       "      <td>146</td>\n",
       "      <td>165</td>\n",
       "      <td>173</td>\n",
       "      <td>183</td>\n",
       "      <td>177</td>\n",
       "      <td>185</td>\n",
       "      <td>195</td>\n",
       "    </tr>\n",
       "    <tr>\n",
       "      <th>4</th>\n",
       "      <td>0.070</td>\n",
       "      <td>0.076</td>\n",
       "      <td>0.058</td>\n",
       "      <td>0.056</td>\n",
       "      <td>0.037</td>\n",
       "      <td>0.062</td>\n",
       "      <td>4.46</td>\n",
       "      <td>2.02</td>\n",
       "      <td>1.94</td>\n",
       "      <td>4.56</td>\n",
       "      <td>...</td>\n",
       "      <td>125</td>\n",
       "      <td>152</td>\n",
       "      <td>146</td>\n",
       "      <td>146</td>\n",
       "      <td>168</td>\n",
       "      <td>171</td>\n",
       "      <td>186</td>\n",
       "      <td>182</td>\n",
       "      <td>189</td>\n",
       "      <td>196</td>\n",
       "    </tr>\n",
       "    <tr>\n",
       "      <th>5</th>\n",
       "      <td>0.086</td>\n",
       "      <td>0.060</td>\n",
       "      <td>0.041</td>\n",
       "      <td>0.042</td>\n",
       "      <td>0.043</td>\n",
       "      <td>0.065</td>\n",
       "      <td>4.42</td>\n",
       "      <td>2.03</td>\n",
       "      <td>1.97</td>\n",
       "      <td>4.61</td>\n",
       "      <td>...</td>\n",
       "      <td>126</td>\n",
       "      <td>150</td>\n",
       "      <td>147</td>\n",
       "      <td>146</td>\n",
       "      <td>164</td>\n",
       "      <td>172</td>\n",
       "      <td>185</td>\n",
       "      <td>178</td>\n",
       "      <td>184</td>\n",
       "      <td>194</td>\n",
       "    </tr>\n",
       "    <tr>\n",
       "      <th>6</th>\n",
       "      <td>0.066</td>\n",
       "      <td>0.066</td>\n",
       "      <td>0.046</td>\n",
       "      <td>0.048</td>\n",
       "      <td>0.047</td>\n",
       "      <td>0.063</td>\n",
       "      <td>4.47</td>\n",
       "      <td>2.02</td>\n",
       "      <td>1.96</td>\n",
       "      <td>4.62</td>\n",
       "      <td>...</td>\n",
       "      <td>116</td>\n",
       "      <td>145</td>\n",
       "      <td>139</td>\n",
       "      <td>135</td>\n",
       "      <td>153</td>\n",
       "      <td>168</td>\n",
       "      <td>177</td>\n",
       "      <td>164</td>\n",
       "      <td>170</td>\n",
       "      <td>185</td>\n",
       "    </tr>\n",
       "    <tr>\n",
       "      <th>7</th>\n",
       "      <td>0.079</td>\n",
       "      <td>0.059</td>\n",
       "      <td>0.050</td>\n",
       "      <td>0.049</td>\n",
       "      <td>0.048</td>\n",
       "      <td>0.050</td>\n",
       "      <td>4.46</td>\n",
       "      <td>2.04</td>\n",
       "      <td>1.95</td>\n",
       "      <td>4.62</td>\n",
       "      <td>...</td>\n",
       "      <td>121</td>\n",
       "      <td>148</td>\n",
       "      <td>140</td>\n",
       "      <td>142</td>\n",
       "      <td>158</td>\n",
       "      <td>172</td>\n",
       "      <td>183</td>\n",
       "      <td>171</td>\n",
       "      <td>175</td>\n",
       "      <td>191</td>\n",
       "    </tr>\n",
       "    <tr>\n",
       "      <th>8</th>\n",
       "      <td>0.076</td>\n",
       "      <td>0.075</td>\n",
       "      <td>0.056</td>\n",
       "      <td>0.053</td>\n",
       "      <td>0.042</td>\n",
       "      <td>0.051</td>\n",
       "      <td>4.43</td>\n",
       "      <td>2.01</td>\n",
       "      <td>1.94</td>\n",
       "      <td>4.59</td>\n",
       "      <td>...</td>\n",
       "      <td>132</td>\n",
       "      <td>160</td>\n",
       "      <td>153</td>\n",
       "      <td>151</td>\n",
       "      <td>174</td>\n",
       "      <td>181</td>\n",
       "      <td>191</td>\n",
       "      <td>185</td>\n",
       "      <td>192</td>\n",
       "      <td>200</td>\n",
       "    </tr>\n",
       "    <tr>\n",
       "      <th>9</th>\n",
       "      <td>0.080</td>\n",
       "      <td>0.066</td>\n",
       "      <td>0.058</td>\n",
       "      <td>0.046</td>\n",
       "      <td>0.050</td>\n",
       "      <td>0.053</td>\n",
       "      <td>4.42</td>\n",
       "      <td>2.02</td>\n",
       "      <td>1.95</td>\n",
       "      <td>4.62</td>\n",
       "      <td>...</td>\n",
       "      <td>132</td>\n",
       "      <td>164</td>\n",
       "      <td>157</td>\n",
       "      <td>159</td>\n",
       "      <td>182</td>\n",
       "      <td>186</td>\n",
       "      <td>195</td>\n",
       "      <td>194</td>\n",
       "      <td>201</td>\n",
       "      <td>202</td>\n",
       "    </tr>\n",
       "    <tr>\n",
       "      <th>10</th>\n",
       "      <td>0.086</td>\n",
       "      <td>0.062</td>\n",
       "      <td>0.054</td>\n",
       "      <td>0.049</td>\n",
       "      <td>0.047</td>\n",
       "      <td>0.070</td>\n",
       "      <td>4.42</td>\n",
       "      <td>2.02</td>\n",
       "      <td>1.94</td>\n",
       "      <td>4.62</td>\n",
       "      <td>...</td>\n",
       "      <td>157</td>\n",
       "      <td>187</td>\n",
       "      <td>183</td>\n",
       "      <td>181</td>\n",
       "      <td>201</td>\n",
       "      <td>211</td>\n",
       "      <td>220</td>\n",
       "      <td>210</td>\n",
       "      <td>214</td>\n",
       "      <td>229</td>\n",
       "    </tr>\n",
       "    <tr>\n",
       "      <th>11</th>\n",
       "      <td>0.087</td>\n",
       "      <td>0.066</td>\n",
       "      <td>0.047</td>\n",
       "      <td>0.054</td>\n",
       "      <td>0.040</td>\n",
       "      <td>0.046</td>\n",
       "      <td>4.42</td>\n",
       "      <td>2.03</td>\n",
       "      <td>1.96</td>\n",
       "      <td>4.59</td>\n",
       "      <td>...</td>\n",
       "      <td>125</td>\n",
       "      <td>154</td>\n",
       "      <td>147</td>\n",
       "      <td>147</td>\n",
       "      <td>168</td>\n",
       "      <td>176</td>\n",
       "      <td>185</td>\n",
       "      <td>178</td>\n",
       "      <td>183</td>\n",
       "      <td>194</td>\n",
       "    </tr>\n",
       "    <tr>\n",
       "      <th>12</th>\n",
       "      <td>0.081</td>\n",
       "      <td>0.068</td>\n",
       "      <td>0.045</td>\n",
       "      <td>0.051</td>\n",
       "      <td>0.039</td>\n",
       "      <td>0.050</td>\n",
       "      <td>4.42</td>\n",
       "      <td>2.02</td>\n",
       "      <td>1.95</td>\n",
       "      <td>4.57</td>\n",
       "      <td>...</td>\n",
       "      <td>138</td>\n",
       "      <td>172</td>\n",
       "      <td>164</td>\n",
       "      <td>164</td>\n",
       "      <td>184</td>\n",
       "      <td>192</td>\n",
       "      <td>202</td>\n",
       "      <td>193</td>\n",
       "      <td>199</td>\n",
       "      <td>211</td>\n",
       "    </tr>\n",
       "    <tr>\n",
       "      <th>13</th>\n",
       "      <td>0.086</td>\n",
       "      <td>0.061</td>\n",
       "      <td>0.049</td>\n",
       "      <td>0.047</td>\n",
       "      <td>0.048</td>\n",
       "      <td>0.073</td>\n",
       "      <td>4.41</td>\n",
       "      <td>2.02</td>\n",
       "      <td>1.96</td>\n",
       "      <td>4.60</td>\n",
       "      <td>...</td>\n",
       "      <td>153</td>\n",
       "      <td>183</td>\n",
       "      <td>180</td>\n",
       "      <td>180</td>\n",
       "      <td>198</td>\n",
       "      <td>204</td>\n",
       "      <td>216</td>\n",
       "      <td>206</td>\n",
       "      <td>208</td>\n",
       "      <td>223</td>\n",
       "    </tr>\n",
       "  </tbody>\n",
       "</table>\n",
       "<p>13 rows × 111 columns</p>\n",
       "</div>"
      ],
      "text/plain": [
       "         BA in  MI in  BF intra  BA ex  MI Ex  BF ex  BA in.1  MI in.1  \\\n",
       "N° Pale                                                                  \n",
       "1        0.077  0.064     0.047  0.054  0.035  0.053     4.43     2.03   \n",
       "2        0.068  0.073     0.059  0.056  0.039  0.053     4.44     2.02   \n",
       "3        0.074  0.072     0.055  0.059  0.038  0.047     4.44     2.03   \n",
       "4        0.070  0.076     0.058  0.056  0.037  0.062     4.46     2.02   \n",
       "5        0.086  0.060     0.041  0.042  0.043  0.065     4.42     2.03   \n",
       "6        0.066  0.066     0.046  0.048  0.047  0.063     4.47     2.02   \n",
       "7        0.079  0.059     0.050  0.049  0.048  0.050     4.46     2.04   \n",
       "8        0.076  0.075     0.056  0.053  0.042  0.051     4.43     2.01   \n",
       "9        0.080  0.066     0.058  0.046  0.050  0.053     4.42     2.02   \n",
       "10       0.086  0.062     0.054  0.049  0.047  0.070     4.42     2.02   \n",
       "11       0.087  0.066     0.047  0.054  0.040  0.046     4.42     2.03   \n",
       "12       0.081  0.068     0.045  0.051  0.039  0.050     4.42     2.02   \n",
       "13       0.086  0.061     0.049  0.047  0.048  0.073     4.41     2.02   \n",
       "\n",
       "         BF intra.1  BA ex.1  ...   85   86   87   88   89   90   91   92  \\\n",
       "N° Pale                       ...                                           \n",
       "1              1.95     4.60  ...  121  151  140  143  161  168  180  175   \n",
       "2              1.95     4.59  ...  129  155  149  148  172  176  187  185   \n",
       "3              1.95     4.59  ...  129  154  146  146  165  173  183  177   \n",
       "4              1.94     4.56  ...  125  152  146  146  168  171  186  182   \n",
       "5              1.97     4.61  ...  126  150  147  146  164  172  185  178   \n",
       "6              1.96     4.62  ...  116  145  139  135  153  168  177  164   \n",
       "7              1.95     4.62  ...  121  148  140  142  158  172  183  171   \n",
       "8              1.94     4.59  ...  132  160  153  151  174  181  191  185   \n",
       "9              1.95     4.62  ...  132  164  157  159  182  186  195  194   \n",
       "10             1.94     4.62  ...  157  187  183  181  201  211  220  210   \n",
       "11             1.96     4.59  ...  125  154  147  147  168  176  185  178   \n",
       "12             1.95     4.57  ...  138  172  164  164  184  192  202  193   \n",
       "13             1.96     4.60  ...  153  183  180  180  198  204  216  206   \n",
       "\n",
       "          93   94  \n",
       "N° Pale            \n",
       "1        182  194  \n",
       "2        190  197  \n",
       "3        185  195  \n",
       "4        189  196  \n",
       "5        184  194  \n",
       "6        170  185  \n",
       "7        175  191  \n",
       "8        192  200  \n",
       "9        201  202  \n",
       "10       214  229  \n",
       "11       183  194  \n",
       "12       199  211  \n",
       "13       208  223  \n",
       "\n",
       "[13 rows x 111 columns]"
      ]
     },
     "execution_count": 3,
     "metadata": {},
     "output_type": "execute_result"
    }
   ],
   "source": [
    "geometries = pd.read_csv('./data/Rouet_geometries.csv', encoding ='latin', header = 2, decimal = ',', sep = None, nrows = 13, index_col = 0, engine = 'python')\n",
    "geometries"
   ]
  },
  {
   "cell_type": "code",
   "execution_count": 4,
   "metadata": {},
   "outputs": [
    {
     "data": {
      "text/html": [
       "<div>\n",
       "<style scoped>\n",
       "    .dataframe tbody tr th:only-of-type {\n",
       "        vertical-align: middle;\n",
       "    }\n",
       "\n",
       "    .dataframe tbody tr th {\n",
       "        vertical-align: top;\n",
       "    }\n",
       "\n",
       "    .dataframe thead th {\n",
       "        text-align: right;\n",
       "    }\n",
       "</style>\n",
       "<table border=\"1\" class=\"dataframe\">\n",
       "  <thead>\n",
       "    <tr style=\"text-align: right;\">\n",
       "      <th></th>\n",
       "      <th>Niveau vibratoire 1FPP (mm)</th>\n",
       "      <th>Vitesse de rotation - Régime (RPM)</th>\n",
       "    </tr>\n",
       "    <tr>\n",
       "      <th>N° Pale</th>\n",
       "      <th></th>\n",
       "      <th></th>\n",
       "    </tr>\n",
       "  </thead>\n",
       "  <tbody>\n",
       "    <tr>\n",
       "      <th>1</th>\n",
       "      <td>0.54</td>\n",
       "      <td>16532.3</td>\n",
       "    </tr>\n",
       "    <tr>\n",
       "      <th>2</th>\n",
       "      <td>0.60</td>\n",
       "      <td>16538.4</td>\n",
       "    </tr>\n",
       "    <tr>\n",
       "      <th>3</th>\n",
       "      <td>0.61</td>\n",
       "      <td>16543.6</td>\n",
       "    </tr>\n",
       "    <tr>\n",
       "      <th>4</th>\n",
       "      <td>0.53</td>\n",
       "      <td>16560.2</td>\n",
       "    </tr>\n",
       "    <tr>\n",
       "      <th>5</th>\n",
       "      <td>0.43</td>\n",
       "      <td>16550.8</td>\n",
       "    </tr>\n",
       "    <tr>\n",
       "      <th>6</th>\n",
       "      <td>0.65</td>\n",
       "      <td>16605.0</td>\n",
       "    </tr>\n",
       "    <tr>\n",
       "      <th>7</th>\n",
       "      <td>0.38</td>\n",
       "      <td>16662.8</td>\n",
       "    </tr>\n",
       "    <tr>\n",
       "      <th>8</th>\n",
       "      <td>0.43</td>\n",
       "      <td>16615.3</td>\n",
       "    </tr>\n",
       "    <tr>\n",
       "      <th>9</th>\n",
       "      <td>0.52</td>\n",
       "      <td>16635.0</td>\n",
       "    </tr>\n",
       "    <tr>\n",
       "      <th>10</th>\n",
       "      <td>0.46</td>\n",
       "      <td>16639.5</td>\n",
       "    </tr>\n",
       "    <tr>\n",
       "      <th>11</th>\n",
       "      <td>0.99</td>\n",
       "      <td>16635.5</td>\n",
       "    </tr>\n",
       "    <tr>\n",
       "      <th>12</th>\n",
       "      <td>0.39</td>\n",
       "      <td>16633.0</td>\n",
       "    </tr>\n",
       "    <tr>\n",
       "      <th>13</th>\n",
       "      <td>0.41</td>\n",
       "      <td>16520.5</td>\n",
       "    </tr>\n",
       "  </tbody>\n",
       "</table>\n",
       "</div>"
      ],
      "text/plain": [
       "         Niveau vibratoire 1FPP (mm)  Vitesse de rotation - Régime (RPM)\n",
       "N° Pale                                                                 \n",
       "1                               0.54                             16532.3\n",
       "2                               0.60                             16538.4\n",
       "3                               0.61                             16543.6\n",
       "4                               0.53                             16560.2\n",
       "5                               0.43                             16550.8\n",
       "6                               0.65                             16605.0\n",
       "7                               0.38                             16662.8\n",
       "8                               0.43                             16615.3\n",
       "9                               0.52                             16635.0\n",
       "10                              0.46                             16639.5\n",
       "11                              0.99                             16635.5\n",
       "12                              0.39                             16633.0\n",
       "13                              0.41                             16520.5"
      ]
     },
     "execution_count": 4,
     "metadata": {},
     "output_type": "execute_result"
    }
   ],
   "source": [
    "vibrations = pd.read_csv('./data/Rouet_vibrations.csv', encoding = 'latin', header = 1, decimal = ',', sep = None, index_col = 0, engine  = 'python')\n",
    "vibrations"
   ]
  },
  {
   "cell_type": "markdown",
   "metadata": {},
   "source": [
    "### 1.2 Standardisez les variables géométriques afin d'obtenir des variables centrées (moyenne 0) et réduites (variance 1)."
   ]
  },
  {
   "cell_type": "code",
   "execution_count": 5,
   "metadata": {},
   "outputs": [
    {
     "name": "stdout",
     "output_type": "stream",
     "text": [
      "True True\n"
     ]
    },
    {
     "data": {
      "text/plain": [
       "BA in       1.0\n",
       "MI in       1.0\n",
       "BF intra    1.0\n",
       "BA ex       1.0\n",
       "MI Ex       1.0\n",
       "           ... \n",
       "90          1.0\n",
       "91          1.0\n",
       "92          1.0\n",
       "93          1.0\n",
       "94          1.0\n",
       "Length: 111, dtype: float64"
      ]
     },
     "execution_count": 5,
     "metadata": {},
     "output_type": "execute_result"
    }
   ],
   "source": [
    "geometries_s = geometries\n",
    "geometries_s -= geometries.mean(axis = 0) \n",
    "geometries_s /= geometries.std(axis = 0)\n",
    "\n",
    "print(np.isclose(geometries_s.mean(axis=0), 0).all(), np.isclose(geometries_s.std(axis=0), 1).all())\n",
    "geometries_s.std()"
   ]
  },
  {
   "cell_type": "markdown",
   "metadata": {},
   "source": [
    "## 2. Analyse exploratoire des données\n",
    "\n",
    "### 2.1 Affichez le niveau vibratoire de chaque aube sur un bar plot"
   ]
  },
  {
   "cell_type": "code",
   "execution_count": 6,
   "metadata": {},
   "outputs": [],
   "source": [
    "import matplotlib.pyplot as plt"
   ]
  },
  {
   "cell_type": "code",
   "execution_count": 7,
   "metadata": {},
   "outputs": [
    {
     "data": {
      "text/plain": [
       "Text(0, 0.5, 'Niveau vibratoire 1FPP (mm)')"
      ]
     },
     "execution_count": 7,
     "metadata": {},
     "output_type": "execute_result"
    },
    {
     "data": {
      "image/png": "[encoded data removed]",
      "text/plain": [
       "<Figure size 1080x360 with 1 Axes>"
      ]
     },
     "metadata": {
      "needs_background": "light"
     },
     "output_type": "display_data"
    }
   ],
   "source": [
    "fig = plt.figure(figsize=(15,5))\n",
    "plt.bar(vibrations.index, vibrations['Niveau vibratoire 1FPP (mm)'], tick_label = vibrations.index.tolist(), width = 0.4)\n",
    "plt.title('Vibrations par aube')\n",
    "plt.xlabel('N° Pale')\n",
    "plt.ylabel('Niveau vibratoire 1FPP (mm)')"
   ]
  },
  {
   "cell_type": "markdown",
   "metadata": {},
   "source": [
    "### 2.2 Analyse par ACP de l'importance des variables géométriques\n",
    "\n",
    "On dispose d'un grand nombre de variables géométriques (111 variables). On souhaite déterminer quelles sont les variables géométriques importantes en analysant leurs poids dans les composantes principales du jeu de données.\n",
    "\n",
    "#### 2.2.1 Effectuez une ACP sur le jeu de données géométriques, puis calculez et visualisez la part de variance expliquée par chaque composante principale. Interprétez le résultat. Quelle part de variance est expliquée par les 2 premières CP ?"
   ]
  },
  {
   "cell_type": "code",
   "execution_count": 8,
   "metadata": {},
   "outputs": [],
   "source": [
    "from sklearn.decomposition import PCA"
   ]
  },
  {
   "cell_type": "code",
   "execution_count": 17,
   "metadata": {},
   "outputs": [
    {
     "data": {
      "image/png": "[encoded data removed]",
      "text/plain": [
       "<Figure size 864x864 with 1 Axes>"
      ]
     },
     "metadata": {
      "needs_background": "light"
     },
     "output_type": "display_data"
    }
   ],
   "source": [
    "# pca = PCA(10).fit(geometries_s)\n",
    "# var_exp = pca.explained_variance_ratio_\n",
    "# print(var_exp)\n",
    "# print(pca)\n",
    "\n",
    "\n",
    "\n",
    "geometries.iloc[:, 1:] -= geometries.iloc[:, 1:].mean(axis=0)\n",
    "geometries.iloc[:, 1:] /= geometries.iloc[:, 1:].std(axis=0)\n",
    "\n",
    "pca = PCA(n_components=10).fit(geometries)\n",
    "plt.figure(figsize=(12,12))\n",
    "\n",
    "theta = np.linspace(0, 2*np.pi, 100)\n",
    "a = np.cos(theta)\n",
    "b = np.sin(theta)\n",
    "plt.plot(a,b)\n",
    "\n",
    "pc1 = pca.components_[0]\n",
    "pc2 = pca.components_[1] \n",
    "scalex = np.sqrt(pca.explained_variance_[0])\n",
    "scaley = np.sqrt(pca.explained_variance_[1])\n",
    "\n",
    " \n",
    "for i,variable in enumerate(geometries.columns[1:]):\n",
    "\n",
    "    plt.scatter(pc1[i] * scalex, pc2[i] * scaley, color='r')\n",
    "    plt.text(pc1[i] * scalex, pc2[i] * scaley,geometries.columns[i])"
   ]
  },
  {
   "cell_type": "markdown",
   "metadata": {},
   "source": [
    "Une technique très courante pour analyser l'importance des variables est de visualiser leurs poids dans le plan des 2 premières composantes principales."
   ]
  },
  {
   "cell_type": "markdown",
   "metadata": {},
   "source": [
    "#### 2.2.2 Visualisez le poids des variables géométriques dans le plan (PC1, PC2)\n",
    "\n",
    "**Indice 1 :** utilisez pour cela les composantes des vecteurs principaux de la matrice `pca.components_`.\n",
    "\n",
    "**Indice 2 :** Afin d'obtenir une graphique avec une bonne échelle entre -1 et 1, il est nécessaire d'appliquer aux poids de chaque composante principale un facteur d'échelle égal à $\\sqrt{\\text{variance expliquée}}$.\n",
    "\n",
    "Voici le type de graphique, appelé _PCA factor loadings plot_ en anglais, que vous devriez obtenir :\n",
    "\n",
    "<img src=\"rc/pca-plot.png\" height=500px width=500px />"
   ]
  },
  {
   "cell_type": "code",
   "execution_count": 130,
   "metadata": {},
   "outputs": [],
   "source": [
    "# fig = plt.figure(figsize=(13,13))\n",
    "\n",
    "# # theta = np.linspace(0, 2*np.pi, 100)\n",
    "# # a = 0.1*np.cos(theta)\n",
    "# # b = 0.1*np.sin(theta)\n",
    "# # plt.plot(a,b)\n",
    "\n",
    "# plt.xlim(-1,1)\n",
    "# plt.ylim(-1,1)\n",
    "# plt.scatter(pca.components_[0]*np.sqrt(var_exp[0]),pca.components_[1]*np.sqrt(var_exp[1]))\n",
    "# for i in range(geometries.columns.size):\n",
    "#     plt.text(1.01*pca.components_[0,i]*np.sqrt(var_exp[0]),1.01*pca.components_[1,i]*np.sqrt(var_exp[1]),geometries.columns[i])\n"
   ]
  },
  {
   "cell_type": "markdown",
   "metadata": {},
   "source": [
    "#### 2.2.3 Interprétez le graphique précédent. Quelles sont les variables géométriques les plus importantes ?"
   ]
  },
  {
   "cell_type": "markdown",
   "metadata": {},
   "source": [
    "Les variables d'épaisseurs (numérotées de 1 à 94) sont toutes situées dans la partie la plus à droite du plan des composantes principales. Elles ont donc un poids très important sur la PC1, beaucoup plus que les autres variables géométriques. Étant donné que la PC1 représente presque 80% de la variance, on peut en conclure que les variables d'épaisseurs sont les plus importantes."
   ]
  },
  {
   "cell_type": "markdown",
   "metadata": {},
   "source": [
    "## 3. Identification de l'aube anormale par analyse des corrélations\n",
    "\n",
    "Suite aux analyses précédentes, on décide de se focaliser sur les variables géométriques correspondant aux épaisseurs de l'aube (variables 1-94). Par ailleurs, les experts mécaniciens nous ont informés que les vibrations étaient corrélées à l'épaisseur de l'aube en différentes points. Par conséquent, nous pouvons décrire les données géométriques en utilisant **seulement la première composante principale** : on se ramène donc à un cas **univarié**, avec une seule variable $\\text{PC1}$ (projection sur la première composante principale).\n",
    "\n",
    "**Objectif :** trouver la permutation circulaire des numérotations d'aubes qui **maximise** la corrélation entre vibrations et épaisseurs des aubes, afin d'identifier l'aube défectueuse.\n",
    "\n",
    "Voici 3 coefficients de corrélation usuels permettant de mesurer l'association de deux variables (ici, $X =\\text{PC1} $ et $Y = \\text{vibration}$) :\n",
    "\n",
    "Coefficient de corrélation | formule | lien wikipédia\n",
    "---------------------------|----------|---------------\n",
    "Corrélation de Pearson     | $\\rho(X, Y) = \\frac{\\text{Cov}(X, Y)}{\\sigma_X \\sigma_Y}$ | https://fr.wikipedia.org/wiki/Corr%C3%A9lation_(statistiques)\n",
    "Corrélation de Spearman    | $\\rho_S(X, Y) = \\frac{\\text{Cov}(\\text{rank}(X), \\text{rank}(Y))}{\\sigma_{\\text{rank}_X} \\sigma_{\\text{rank}(Y)}}$ | https://fr.wikipedia.org/wiki/Corr%C3%A9lation_de_Spearman\n",
    "Corrélation de Kendall     | $\\tau(X, Y) = \\frac{2\\sum_{i<j}\\text{sign}(x_j-x_i)\\text{sign}(y_j-y_i)}{N(N-1)}$ | https://fr.wikipedia.org/wiki/Tau_de_Kendall\n"
   ]
  },
  {
   "cell_type": "markdown",
   "metadata": {},
   "source": [
    "### 3.1 Quel(s) coefficient(s) vous semble(nt) adapté(s) pour analyser les corrélations entre nos variables ?"
   ]
  },
  {
   "cell_type": "markdown",
   "metadata": {},
   "source": [
    "La corrélation de Kendall et de Spearman semblent les + adaptés à notre situation"
   ]
  },
  {
   "cell_type": "markdown",
   "metadata": {},
   "source": [
    "### 3.2 Calculez les corrélations pour les 12 décalages circulaires possibles entre les données géométriques et les vibrations. Visualisez-les sur un graphique.\n",
    "\n",
    "**Indice :** on peut facilement obtenir une permuation circulaire d'un jeu de données à l'aide de la fonction `numpy.roll(...)`."
   ]
  },
  {
   "cell_type": "markdown",
   "metadata": {},
   "source": [
    "<div style=\"color: #1111bb; font-size: 16px; background-color: #eeeeff; padding: 20px; border-radius: 15px\">\n",
    "    <p><b>Rappel :</b> On n'utilise que la PC1 des variables géométriques !</p>\n",
    "</div>"
   ]
  },
  {
   "cell_type": "markdown",
   "metadata": {},
   "source": [
    "Il est recommandé de calculer les _$p$-values_ associées au coefficient de corrélation choisi. Ces valeurs permettent de déterminer si les corrélations trouvées sont **significatives ou non**. La $p$-value est associée aux deux hypothèses statistiques suivantes :\n",
    "\n",
    "* $\\mathcal{H}_0$ : les variables X et Y sont indépendantes (pas de corrélation)\n",
    "* $\\mathcal{H}_1$ : les variables X et Y sont dépendantes (corrélation)\n",
    "\n",
    "La $p$-value correspond à la **probabilité de se tromper en rejetant l'hypothèse null $\\mathcal{H}_0$**. On fait généralement le choix de rejeter l'hypothèse nulle lorsque $p$-value < 0.05, i.e. moins de 5% de chances de se tromper."
   ]
  },
  {
   "cell_type": "code",
   "execution_count": 10,
   "metadata": {},
   "outputs": [],
   "source": [
    "import math\n",
    "def kendall_tau(x, y):\n",
    "    \"\"\"Compute Kendall's tau correlation\n",
    "    \n",
    "    Arguments\n",
    "        xs : float array (n)\n",
    "            input variable 1\n",
    "        ys : float array (n)\n",
    "        input variable 2\n",
    "        \n",
    "    Returns\n",
    "        tau : float in [-1, 1]\n",
    "            correlation coefficient\n",
    "        pvalue : float\n",
    "            p-value\n",
    "    \"\"\"\n",
    "    assert x.size == y.size\n",
    "    size = x.size\n",
    "    \n",
    "    tot = (size * (size-1)) // 2\n",
    "    s = np.array([np.sign(x[j] - x[i]) * np.sign(y[j] - y[i]) for j in range(size) for i in range(j)])\n",
    "    tau = np.sum(s) / tot\n",
    "    \n",
    "    dis = np.sum(s < 0)  # number of discordant pairs\n",
    "    # Exact p-value, see Maurice G. Kendall, \"Rank Correlation Methods\" (4th Edition), Charles Griffin & Co., 1970.\n",
    "    c = min(dis, tot-dis)\n",
    "    if size <= 0:\n",
    "        raise ValueError\n",
    "    elif c < 0 or 2*c > size*(size-1):\n",
    "        raise ValueError\n",
    "    elif size == 1:\n",
    "        pvalue = 1.0\n",
    "    elif size == 2:\n",
    "        pvalue = 1.0\n",
    "    elif c == 0:\n",
    "        pvalue = 2.0/math.factorial(size) if size < 171 else 0.0\n",
    "    elif c == 1:\n",
    "        pvalue = 2.0/math.factorial(size-1) if (size-1) < 171 else 0.0\n",
    "    else:\n",
    "        new = [0.0]*(c+1)\n",
    "        new[0] = 1.0\n",
    "        new[1] = 1.0\n",
    "        for j in range(3,size+1):\n",
    "            old = new[:]\n",
    "            for k in range(1,min(j,c+1)):\n",
    "                new[k] += new[k-1]\n",
    "            for k in range(j,c+1):\n",
    "                new[k] += new[k-1] - old[k-j]\n",
    "        pvalue = 2.0*sum(new)/math.factorial(size) if size < 171 else 0.0\n",
    "        \n",
    "    return tau, pvalue"
   ]
  },
  {
   "cell_type": "code",
   "execution_count": 13,
   "metadata": {},
   "outputs": [
    {
     "name": "stdout",
     "output_type": "stream",
     "text": [
      "[ -2.62615061   0.83281992  -1.15115344  -2.78452265  -0.74830039\n",
      " -13.61527624 -10.47091609  -0.9342382    0.51104608  16.57887924\n",
      "  -9.22697186   4.63976181  18.99502244]\n"
     ]
    },
    {
     "data": {
      "text/plain": [
       "<BarContainer object of 13 artists>"
      ]
     },
     "execution_count": 13,
     "metadata": {},
     "output_type": "execute_result"
    },
    {
     "data": {
      "image/png": "[encoded data removed]",
      "text/plain": [
       "<Figure size 1800x360 with 2 Axes>"
      ]
     },
     "metadata": {
      "needs_background": "light"
     },
     "output_type": "display_data"
    }
   ],
   "source": [
    "PC1 = pca.fit_transform(geometries)[:,0]\n",
    "print(PC1)\n",
    "tau = []\n",
    "p_values = []\n",
    "couleurs = []\n",
    "x = kendall_tau(PC1,np.array(vibrations.iloc[:,0])) \n",
    "for i in range(13):\n",
    "    PC1 = np.roll(PC1,1)\n",
    "    x = kendall_tau(PC1,np.array(vibrations.iloc[:,0])) \n",
    "    tau.append(x[0])\n",
    "    p_values.append(x[1])\n",
    "    if p_values[i]>0.05:\n",
    "        couleurs.append('r')\n",
    "    else:\n",
    "        couleurs.append('g')\n",
    "    \n",
    "\n",
    "fig = plt.figure(figsize=(25,5))\n",
    "plt.subplot(1, 2, 1)\n",
    "plt.bar(vibrations.index, abs(np.array(tau)), tick_label = vibrations.index.tolist(), color = couleurs)\n",
    "plt.subplot(1, 2, 2)\n",
    "plt.bar(vibrations.index, p_values, tick_label = vibrations.index.tolist(), color = couleurs)"
   ]
  },
  {
   "cell_type": "markdown",
   "metadata": {},
   "source": [
    "### 3.3 Quel est le décalage circulaire qui maximise la corrélation ? (il peut éventuellement en y avoir plusieurs) Peut-on en déduire l'aube anormale ?"
   ]
  },
  {
   "cell_type": "markdown",
   "metadata": {},
   "source": [
    "ce sont les décalages 1 et 6 qui maximisent la corrélation\n"
   ]
  },
  {
   "cell_type": "markdown",
   "metadata": {},
   "source": [
    "### 3.4 L'analyse de la PC1 ne s'est pas révélée suffisante, une analyse plus fine est nécessaire. Calculez, pour chaque décalage circulaire de la numérotation des aubes, les corrélations entre toutes les variables d'épaisseur (94 variables) et le niveau vibratoire. Concluez sur l'identité de l'aube défaillante, ainsi que sur la zone précise du défaut."
   ]
  },
  {
   "cell_type": "code",
   "execution_count": 53,
   "metadata": {},
   "outputs": [
    {
     "data": {
      "image/png": "[encoded data removed]",
      "text/plain": [
       "<Figure size 1080x2160 with 13 Axes>"
      ]
     },
     "metadata": {
      "needs_background": "light"
     },
     "output_type": "display_data"
    }
   ],
   "source": [
    "tau_94 = []\n",
    "p_values_94 = []\n",
    "couleurs_94 = []\n",
    "for i in range(13):\n",
    "    for j in range(94):\n",
    "        Y = np.array(geometries.iloc[:,-94+j])\n",
    "        Y = np.roll(Y,1+i)\n",
    "        x = kendall_tau(Y,np.array(vibrations.iloc[:,0])) \n",
    "        tau_94.append(x[0])\n",
    "        p_values_94.append(x[1])\n",
    "        if x[1]>0.05:\n",
    "            couleurs_94.append('r')\n",
    "        else:\n",
    "            couleurs_94.append('g')\n",
    "\n",
    "tau_mat_94 = abs(np.array(tau_94).reshape(13,94))\n",
    "p_values_mat_94 = np.array(p_values_94).reshape(13,94) \n",
    "\n",
    "fig, axes = plt.subplots(13, 1, figsize=(15, 30))\n",
    "for i in range(13) :\n",
    "    \n",
    "    plt.subplot(13,1,i+1)\n",
    "    plt.bar(range(94),tau_mat_94[i,:], color = couleurs_94)\n",
    "    plt.ylim(0,1)\n",
    "\n",
    "#print(tau_mat_94)\n"
   ]
  }
 ],
 "metadata": {
  "kernelspec": {
   "display_name": "Python 3",
   "language": "python",
   "name": "python3"
  },
  "language_info": {
   "codemirror_mode": {
    "name": "ipython",
    "version": 3
   },
   "file_extension": ".py",
   "mimetype": "text/x-python",
   "name": "python",
   "nbconvert_exporter": "python",
   "pygments_lexer": "ipython3",
   "version": "3.7.6"
  }
 },
 "nbformat": 4,
 "nbformat_minor": 4
}
